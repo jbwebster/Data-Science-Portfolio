{
 "cells": [
  {
   "cell_type": "markdown",
   "metadata": {},
   "source": [
    "The Evolution of Cancer Research\n",
    "\n",
    "Cancer is currently one of the most well-funded research areas in the world, involving researchers from a wide variety of disciplinary backgrounds - but that hasn't always been the case. I have collected a dataset from the National Center for Biotechnology Information (NCBI) using their PubMed database. The data includes over every scientific journal article in their database that includes the word \"Cancer\" in either the title or the abstract of the article as of Feb 12, 2020. If you're interested, you can generate the same dataset by [clicking here](https://www.ncbi.nlm.nih.gov/pubmed/?term=Cancer%5BTitle%2FAbstract%5D+NOT+%22QDF%22). \n",
    "\n",
    "The dataset includes the title and authors of each article, as well as some data about the publication date, which journal published the article, and some unique identifiers for the paper. Using that information, I'd like to better understand how cancer research has changed over time, and what it looks like to day.\n"
   ]
  },
  {
   "cell_type": "markdown",
   "metadata": {},
   "source": [
    "To begin, let's import the data and look at the first couple data points."
   ]
  },
  {
   "cell_type": "code",
   "execution_count": 52,
   "metadata": {},
   "outputs": [],
   "source": [
    "import csv\n",
    "import matplotlib.pyplot as plt\n",
    "import seaborn as sns\n",
    "import pandas as pd\n",
    "import plotly.express as px"
   ]
  },
  {
   "cell_type": "code",
   "execution_count": 9,
   "metadata": {},
   "outputs": [
    {
     "name": "stdout",
     "output_type": "stream",
     "text": [
      "[['Title', 'URL', 'Description', 'Details', 'ShortDetails', 'Resource', 'Type', 'Identifiers', 'Db', 'EntrezUID', 'Properties'], ['Endoscopic and Pathological Characteristics of Helicobacter pylori Infection-Negative Early Gastric Cancer.', '/pubmed/32045929', 'Mizutani T, Araki H, Saigo C, Takada J, Kubota M, Ibuka T, Suzui N, Miyazaki T, Shimizu M.', 'Dig Dis. 2020 Feb 11:1-10. doi: 10.1159/000506120. [Epub ahead of print]', 'Dig Dis.  2020', 'PubMed', 'citation', 'PMID:32045929', 'pubmed', '32045929', 'create date:2020/02/12 | first author:Mizutani T', ''], ['Complexity of Neural Component of Tumor Microenvironment in Prostate Cancer.', '/pubmed/32045912', 'Sejda A, Sigorski D, Gulczyński J, Wesołowski W, Kitlińska J, Iżycka-Świeszewska E.', 'Pathobiology. 2020 Feb 11:1-13. doi: 10.1159/000505437. [Epub ahead of print] Review.', 'Pathobiology.  2020', 'PubMed', 'citation', 'PMID:32045912', 'pubmed', '32045912', 'create date:2020/02/12 | first author:Sejda A', '']]\n"
     ]
    }
   ],
   "source": [
    "data = []\n",
    "with open('data/ncbi_article_data.csv', newline='') as csvfile:\n",
    "         reader = csv.reader(csvfile, delimiter=',')\n",
    "         for row in reader:\n",
    "            data.append(row)\n",
    "print(data[0:3])"
   ]
  },
  {
   "cell_type": "markdown",
   "metadata": {},
   "source": [
    "Let's also check out how many journal articles we have in our dataset, and how they are spread out over time. Different entries seem to have recorded the year of publication in 3 different ways, so we need to make sure we grab the right information for each of the three formats, and they are sometimes in different columns of the dataset. I've arbitrarily numbered the different formats in my comments below."
   ]
  },
  {
   "cell_type": "code",
   "execution_count": 29,
   "metadata": {},
   "outputs": [
    {
     "name": "stdout",
     "output_type": "stream",
     "text": [
      "All years collected - 1660613\n"
     ]
    }
   ],
   "source": [
    "years = []\n",
    "# Look at data from each article\n",
    "for article in data[1:]:\n",
    "    short_details = article[4]\n",
    "    pub_year = short_details.split(\" \")[-1]\n",
    "    # This is true if the date was formatted a specific way\n",
    "    if pub_year.isdigit():\n",
    "        years.append(int(pub_year))\n",
    "    # If the date was formatted differently, adjust the method for collecting it\n",
    "    else:\n",
    "        details = article[3]\n",
    "        pub_year = details.split(\";\")[0][-4:]\n",
    "        numbers = sum(character.isdigit() for character in pub_year)\n",
    "        # True if date was in \"format 2\"\n",
    "        if numbers == 4:\n",
    "            years.append(int(pub_year))\n",
    "        # True if date was in \"format 3\"\n",
    "        else:\n",
    "            pub_year = details.split(\";\")[0][-11:-7]\n",
    "            years.append(int(pub_year))\n",
    "# The number of years collected should be the number of lines in the dataset,\n",
    "# minus the header line\n",
    "if len(years) == len(data) - 1:\n",
    "    print(\"All years collected - \" + str(len(years)))"
   ]
  },
  {
   "cell_type": "markdown",
   "metadata": {},
   "source": [
    "It looks like we were able to retrieve a year for every article in the dataset, and that we have 1,660,613 articles to examine. How are they distributed over time?"
   ]
  },
  {
   "cell_type": "code",
   "execution_count": 47,
   "metadata": {},
   "outputs": [
    {
     "name": "stdout",
     "output_type": "stream",
     "text": [
      "First year in dataset: 1787\n"
     ]
    },
    {
     "data": {
      "image/png": "[encoded data removed]",
      "text/plain": [
       "<Figure size 432x288 with 1 Axes>"
      ]
     },
     "metadata": {},
     "output_type": "display_data"
    }
   ],
   "source": [
    "sns.set_style('darkgrid')\n",
    "fig = sns.distplot(years, kde=False)\n",
    "fig.figure.suptitle(\"Cancer publications over time\", fontsize = 12)\n",
    "plt.xlabel('Year', fontsize=12);\n",
    "plt.ylabel('# of Publications', fontsize=12);\n",
    "print(\"First year in dataset: \" + str(min(years)))"
   ]
  },
  {
   "cell_type": "markdown",
   "metadata": {},
   "source": [
    "It looks like there was really sparse cancer related work happening as early as the 1700's, but research didn't really start picking up until 1950, which was followed by an explosion of research in the 21st century. "
   ]
  },
  {
   "cell_type": "code",
   "execution_count": 55,
   "metadata": {},
   "outputs": [],
   "source": [
    "df = pd.DataFrame(years, columns =['Publication Year']) \n",
    "fig = px.bar(df, x='Publication Year')\n",
    "fig.show()"
   ]
  }
 ],
 "metadata": {
  "kernelspec": {
   "display_name": "Python 3",
   "language": "python",
   "name": "python3"
  },
  "language_info": {
   "codemirror_mode": {
    "name": "ipython",
    "version": 3
   },
   "file_extension": ".py",
   "mimetype": "text/x-python",
   "name": "python",
   "nbconvert_exporter": "python",
   "pygments_lexer": "ipython3",
   "version": "3.7.3"
  }
 },
 "nbformat": 4,
 "nbformat_minor": 2
}
